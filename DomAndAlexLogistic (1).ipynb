{
 "cells": [
  {
   "cell_type": "code",
   "execution_count": 61,
   "id": "6496862d-963c-48f0-8154-4bf8ded04b92",
   "metadata": {},
   "outputs": [],
   "source": [
    "import pandas as pd\n",
    "import numpy as np\n",
    "import matplotlib.pyplot as plt\n",
    "\n",
    "from sklearn.linear_model import LogisticRegression\n",
    "from sklearn import metrics\n",
    "from sklearn.model_selection import train_test_split\n",
    "from sklearn.preprocessing import StandardScaler\n",
    "from sklearn.preprocessing import MinMaxScaler\n",
    "from sklearn.metrics import classification_report\n",
    "from sklearn.metrics import roc_auc_score\n",
    "import seaborn as sns\n",
    "\n",
    "import statsmodels.api as sm\n"
   ]
  },
  {
   "cell_type": "code",
   "execution_count": 62,
   "id": "422c42fa-34d7-44e9-9d8a-ec5733fe51f9",
   "metadata": {},
   "outputs": [],
   "source": [
    "df = pd.read_csv('cleanData1.csv')\n"
   ]
  },
  {
   "cell_type": "code",
   "execution_count": 63,
   "id": "ff3df0cb-8903-4184-9e37-e32e978c9c6b",
   "metadata": {},
   "outputs": [
    {
     "name": "stdout",
     "output_type": "stream",
     "text": [
      "          PIDMTERM    TERM  1st_College_Semester_GPA  \\\n",
      "0     1.636620e+11  201980                      2.00   \n",
      "1     1.871450e+11  201980                      2.67   \n",
      "2     2.022230e+11  201980                      2.45   \n",
      "3     2.155820e+11  201980                      2.60   \n",
      "4     2.216790e+11  201980                      1.50   \n",
      "...            ...     ...                       ...   \n",
      "7087  3.657290e+11  202280                      1.29   \n",
      "7088  3.693660e+11  202280                      0.38   \n",
      "7089  3.693800e+11  202280                      3.08   \n",
      "7090  3.701950e+11  202280                      2.50   \n",
      "7091  3.707270e+11  202280                      2.86   \n",
      "\n",
      "                         HighSchool  SARADAP_PIDM  AGE  MILES_FROM_TTU  APPDT  \\\n",
      "0            Cookeville High School        163662   28            0.98  43641   \n",
      "1              Cherokee High School        187145   26            0.98  43494   \n",
      "2          White County High School        202223   21           15.60  43343   \n",
      "3       Anderson County High School        215582   22           79.95  43386   \n",
      "4            Cookeville High School        221679   25            2.23  43392   \n",
      "...                             ...           ...  ...             ...    ...   \n",
      "7087  Punjab School Education Board        365729   20            0.00  44617   \n",
      "7088    St Ursula Eichi High School        369366   20            0.00  44656   \n",
      "7089            Oakland High School        369380   18            0.00  44656   \n",
      "7090     Rene Descartes High School        370195   17            0.00  44676   \n",
      "7091  Teays Valley Christian School        370727   20            0.00  44697   \n",
      "\n",
      "      Hours_Transferred_In  HS_GRAD_YEAR  ...  SEGMENT COLLEGES1 MAJORS1  \\\n",
      "0                      0.0          2012  ...     2019        IP     GHS   \n",
      "1                      0.0          2014  ...     2019        EN     CSC   \n",
      "2                      0.0          2018  ...     2019        EN     CSC   \n",
      "3                      9.0          2019  ...     2019        AS    BIOL   \n",
      "4                      0.0          2015  ...     2019        BA     MKT   \n",
      "...                    ...           ...  ...      ...       ...     ...   \n",
      "7087                   0.0          2018  ...     2022        BA    IBAC   \n",
      "7088                   0.0          2022  ...     2022        AH    AGRI   \n",
      "7089                   0.0          2022  ...     2022        EN      ET   \n",
      "7090                   0.0             0  ...     2022        IS    LIST   \n",
      "7091                   0.0          2022  ...     2022        BA    IBAC   \n",
      "\n",
      "     Spring_1_Retention  College_Change Major_Change  0  F  M  N  \n",
      "0                     0               0            0  0  1  0  0  \n",
      "1                     0               0            0  0  0  1  0  \n",
      "2                     1               0            0  0  0  1  0  \n",
      "3                     1               0            0  0  0  1  0  \n",
      "4                     1               0            1  0  0  1  0  \n",
      "...                 ...             ...          ... .. .. .. ..  \n",
      "7087                  1               0            0  0  0  1  0  \n",
      "7088                  1               0            0  0  0  1  0  \n",
      "7089                  1               0            0  0  0  1  0  \n",
      "7090                  1               0            0  0  1  0  0  \n",
      "7091                  1               0            0  0  0  1  0  \n",
      "\n",
      "[7092 rows x 38 columns]\n"
     ]
    }
   ],
   "source": [
    "#Dummies for Gender. \n",
    "df_laterality = pd.get_dummies(df, prefix='', prefix_sep='', columns=['GENDER'])\n",
    "print(df_laterality)"
   ]
  },
  {
   "cell_type": "code",
   "execution_count": 64,
   "id": "44f28e4a-5e0e-483b-b21f-675a36953f16",
   "metadata": {},
   "outputs": [],
   "source": [
    "df_laterality = df_laterality.rename(columns={\"M\": \"male\", \"F\": \"female\"})\n"
   ]
  },
  {
   "cell_type": "code",
   "execution_count": 65,
   "id": "c7d14bc7-7876-44f0-a3e5-75c0ada1b482",
   "metadata": {},
   "outputs": [],
   "source": [
    "df_laterality = df_laterality.rename(columns={\"0\": \"gender_0\",\"N\": \"gender_N\"})\n"
   ]
  },
  {
   "cell_type": "code",
   "execution_count": 66,
   "id": "3ad73014-bb3a-4a51-b473-458433096e82",
   "metadata": {},
   "outputs": [
    {
     "name": "stdout",
     "output_type": "stream",
     "text": [
      "          PIDMTERM    TERM  1st_College_Semester_GPA  \\\n",
      "0     1.636620e+11  201980                      2.00   \n",
      "1     1.871450e+11  201980                      2.67   \n",
      "2     2.022230e+11  201980                      2.45   \n",
      "3     2.155820e+11  201980                      2.60   \n",
      "4     2.216790e+11  201980                      1.50   \n",
      "...            ...     ...                       ...   \n",
      "7087  3.657290e+11  202280                      1.29   \n",
      "7088  3.693660e+11  202280                      0.38   \n",
      "7089  3.693800e+11  202280                      3.08   \n",
      "7090  3.701950e+11  202280                      2.50   \n",
      "7091  3.707270e+11  202280                      2.86   \n",
      "\n",
      "                         HighSchool  SARADAP_PIDM  AGE  MILES_FROM_TTU  APPDT  \\\n",
      "0            Cookeville High School        163662   28            0.98  43641   \n",
      "1              Cherokee High School        187145   26            0.98  43494   \n",
      "2          White County High School        202223   21           15.60  43343   \n",
      "3       Anderson County High School        215582   22           79.95  43386   \n",
      "4            Cookeville High School        221679   25            2.23  43392   \n",
      "...                             ...           ...  ...             ...    ...   \n",
      "7087  Punjab School Education Board        365729   20            0.00  44617   \n",
      "7088    St Ursula Eichi High School        369366   20            0.00  44656   \n",
      "7089            Oakland High School        369380   18            0.00  44656   \n",
      "7090     Rene Descartes High School        370195   17            0.00  44676   \n",
      "7091  Teays Valley Christian School        370727   20            0.00  44697   \n",
      "\n",
      "      Hours_Transferred_In  HS_GRAD_YEAR  ...  gender_N college_of_AH  \\\n",
      "0                      0.0          2012  ...         0             0   \n",
      "1                      0.0          2014  ...         0             0   \n",
      "2                      0.0          2018  ...         0             0   \n",
      "3                      9.0          2019  ...         0             0   \n",
      "4                      0.0          2015  ...         0             0   \n",
      "...                    ...           ...  ...       ...           ...   \n",
      "7087                   0.0          2018  ...         0             0   \n",
      "7088                   0.0          2022  ...         0             1   \n",
      "7089                   0.0          2022  ...         0             0   \n",
      "7090                   0.0             0  ...         0             0   \n",
      "7091                   0.0          2022  ...         0             0   \n",
      "\n",
      "     college_of_AS college_of_BA  college_of_ED college_of_EN  college_of_FA  \\\n",
      "0                0             0              0             0              0   \n",
      "1                0             0              0             1              0   \n",
      "2                0             0              0             1              0   \n",
      "3                1             0              0             0              0   \n",
      "4                0             1              0             0              0   \n",
      "...            ...           ...            ...           ...            ...   \n",
      "7087             0             1              0             0              0   \n",
      "7088             0             0              0             0              0   \n",
      "7089             0             0              0             1              0   \n",
      "7090             0             0              0             0              0   \n",
      "7091             0             1              0             0              0   \n",
      "\n",
      "     college_of_IP college_of_IS college_of_NU  \n",
      "0                1             0             0  \n",
      "1                0             0             0  \n",
      "2                0             0             0  \n",
      "3                0             0             0  \n",
      "4                0             0             0  \n",
      "...            ...           ...           ...  \n",
      "7087             0             0             0  \n",
      "7088             0             0             0  \n",
      "7089             0             0             0  \n",
      "7090             0             1             0  \n",
      "7091             0             0             0  \n",
      "\n",
      "[7092 rows x 46 columns]\n"
     ]
    }
   ],
   "source": [
    "df_college = pd.get_dummies(df_laterality, prefix='college_of_', prefix_sep='', columns=['COLLEGE'])\n",
    "print(df_college)\n"
   ]
  },
  {
   "cell_type": "code",
   "execution_count": 67,
   "id": "1cd52e96-21ca-4e30-8dbf-a2e4dae48a7c",
   "metadata": {},
   "outputs": [
    {
     "name": "stdout",
     "output_type": "stream",
     "text": [
      "      1st_College_Semester_GPA  SARADAP_PIDM  AGE  MILES_FROM_TTU  \\\n",
      "0                         2.00        163662   28            0.98   \n",
      "1                         2.67        187145   26            0.98   \n",
      "2                         2.45        202223   21           15.60   \n",
      "3                         2.60        215582   22           79.95   \n",
      "4                         1.50        221679   25            2.23   \n",
      "...                        ...           ...  ...             ...   \n",
      "7087                      1.29        365729   20            0.00   \n",
      "7088                      0.38        369366   20            0.00   \n",
      "7089                      3.08        369380   18            0.00   \n",
      "7090                      2.50        370195   17            0.00   \n",
      "7091                      2.86        370727   20            0.00   \n",
      "\n",
      "      Hours_Transferred_In  HIGH_SCHOOL_GPA HOUSING  ORIENTATION_SESSION  \\\n",
      "0                      0.0             3.02       0                   10   \n",
      "1                      0.0             2.64       0                   21   \n",
      "2                      0.0             4.00       0                    2   \n",
      "3                      9.0             3.41       1                    4   \n",
      "4                      0.0             2.52       0                   21   \n",
      "...                    ...              ...     ...                  ...   \n",
      "7087                   0.0             2.50       0                   20   \n",
      "7088                   0.0             2.61       1                   20   \n",
      "7089                   0.0             2.80       0                   25   \n",
      "7090                   0.0             0.00       1                   20   \n",
      "7091                   0.0             3.09       0                    0   \n",
      "\n",
      "      ACT_COMPOSITE  Pell_Eligible  ...  gender_N  college_of_AH  \\\n",
      "0                17              1  ...         0              0   \n",
      "1                20              0  ...         0              0   \n",
      "2                31              0  ...         0              0   \n",
      "3                25              0  ...         0              0   \n",
      "4                24              1  ...         0              0   \n",
      "...             ...            ...  ...       ...            ...   \n",
      "7087              0              0  ...         0              0   \n",
      "7088              0              0  ...         0              1   \n",
      "7089             22              1  ...         0              0   \n",
      "7090              0              0  ...         0              0   \n",
      "7091              0              0  ...         0              0   \n",
      "\n",
      "      college_of_AS  college_of_BA  college_of_ED  college_of_EN  \\\n",
      "0                 0              0              0              0   \n",
      "1                 0              0              0              1   \n",
      "2                 0              0              0              1   \n",
      "3                 1              0              0              0   \n",
      "4                 0              1              0              0   \n",
      "...             ...            ...            ...            ...   \n",
      "7087              0              1              0              0   \n",
      "7088              0              0              0              0   \n",
      "7089              0              0              0              1   \n",
      "7090              0              0              0              0   \n",
      "7091              0              1              0              0   \n",
      "\n",
      "      college_of_FA  college_of_IP  college_of_IS  college_of_NU  \n",
      "0                 0              1              0              0  \n",
      "1                 0              0              0              0  \n",
      "2                 0              0              0              0  \n",
      "3                 0              0              0              0  \n",
      "4                 0              0              0              0  \n",
      "...             ...            ...            ...            ...  \n",
      "7087              0              0              0              0  \n",
      "7088              0              0              0              0  \n",
      "7089              0              0              0              0  \n",
      "7090              0              0              1              0  \n",
      "7091              0              0              0              0  \n",
      "\n",
      "[7092 rows x 27 columns]\n",
      "0       0\n",
      "1       0\n",
      "2       1\n",
      "3       1\n",
      "4       1\n",
      "       ..\n",
      "7087    1\n",
      "7088    1\n",
      "7089    1\n",
      "7090    1\n",
      "7091    1\n",
      "Name: Spring_1_Retention, Length: 7092, dtype: int64\n"
     ]
    }
   ],
   "source": [
    "#not using APPDT right now\n",
    "cols = [2,4,5,6,8,10,13,14,16,21,22,23,31,32,33,34,35,36,37,38,39,40,41,42,43,44,45]\n",
    "\n",
    "x = df_college[df_college.columns[cols]]\n",
    "y = df_college[df_college.columns[30]]\n",
    "\n",
    "print(x)\n",
    "print(y)"
   ]
  },
  {
   "cell_type": "code",
   "execution_count": 68,
   "id": "99184cb8-4706-4607-8eee-c481447c0cc7",
   "metadata": {},
   "outputs": [
    {
     "name": "stdout",
     "output_type": "stream",
     "text": [
      "0       NaN\n",
      "1       NaN\n",
      "2       NaN\n",
      "3       NaN\n",
      "4       NaN\n",
      "       ... \n",
      "7087    NaN\n",
      "7088    NaN\n",
      "7089    NaN\n",
      "7090    NaN\n",
      "7091    NaN\n",
      "Name: HOUSING, Length: 7092, dtype: object\n"
     ]
    }
   ],
   "source": [
    "print(df_college['HOUSING'].where(df_college['HOUSING'] == 'W'))"
   ]
  },
  {
   "cell_type": "code",
   "execution_count": 69,
   "id": "6e18b00d-fb02-4944-8a89-51793b95146c",
   "metadata": {},
   "outputs": [
    {
     "name": "stdout",
     "output_type": "stream",
     "text": [
      "          PIDMTERM    TERM  1st_College_Semester_GPA  \\\n",
      "3353  2.969460e+11  202180                      4.00   \n",
      "3394  3.110220e+11  202180                      3.69   \n",
      "3960  3.334120e+11  202180                      3.56   \n",
      "4033  3.338920e+11  202180                      2.67   \n",
      "4091  3.342250e+11  202180                      0.00   \n",
      "4202  3.348270e+11  202180                      2.69   \n",
      "4284  3.353240e+11  202180                      3.31   \n",
      "4460  3.364360e+11  202180                      3.47   \n",
      "4726  3.394800e+11  202180                      1.62   \n",
      "4732  3.395300e+11  202180                      0.75   \n",
      "4748  3.398750e+11  202180                      2.38   \n",
      "4931  3.516160e+11  202180                      2.25   \n",
      "\n",
      "                          HighSchool  SARADAP_PIDM  AGE  MILES_FROM_TTU  \\\n",
      "3353           Sunbright High School        296946   19           46.03   \n",
      "3394      Dickson County High School        311022   21          106.05   \n",
      "3960       Academy Of The Holy Names        333412   20          598.54   \n",
      "4033          Cookeville High School        333892   20            0.98   \n",
      "4091            Upperman High School        334225   19            0.98   \n",
      "4202            Monterey High School        334827   20           20.29   \n",
      "4284    McCracken County High School        335324   20          185.74   \n",
      "4460           Hillsboro High School        336436   19           64.22   \n",
      "4726            Upperman High School        339480   20            0.98   \n",
      "4732            Upperman High School        339530   20            0.98   \n",
      "4748            Franklin High School        339875   19            0.98   \n",
      "4931  Seton Home Study School               351616   22          388.05   \n",
      "\n",
      "      APPDT  Hours_Transferred_In  HS_GRAD_YEAR  ...  gender_N college_of_AH  \\\n",
      "3353  44124                   9.0          2021  ...         0             0   \n",
      "3394  44285                   3.0          2020  ...         0             0   \n",
      "3960  44053                   0.0          2021  ...         0             0   \n",
      "4033  44331                   0.0          2021  ...         0             0   \n",
      "4091  44385                   0.0          2021  ...         0             0   \n",
      "4202  44097                   6.0          2021  ...         0             0   \n",
      "4284  44104                   0.0          2021  ...         0             0   \n",
      "4460  44127                   0.0          2021  ...         0             0   \n",
      "4726  44165                   3.0          2021  ...         0             0   \n",
      "4732  44166                   9.0          2021  ...         0             0   \n",
      "4748  44299                   0.0          2021  ...         0             0   \n",
      "4931  44313                   0.0          2020  ...         0             0   \n",
      "\n",
      "     college_of_AS college_of_BA  college_of_ED college_of_EN  college_of_FA  \\\n",
      "3353             0             0              0             0              0   \n",
      "3394             0             0              1             0              0   \n",
      "3960             0             0              1             0              0   \n",
      "4033             0             0              1             0              0   \n",
      "4091             0             0              1             0              0   \n",
      "4202             1             0              0             0              0   \n",
      "4284             0             0              0             0              0   \n",
      "4460             0             0              0             1              0   \n",
      "4726             0             0              0             1              0   \n",
      "4732             0             0              0             0              1   \n",
      "4748             0             0              1             0              0   \n",
      "4931             1             0              0             0              0   \n",
      "\n",
      "     college_of_IP college_of_IS college_of_NU  \n",
      "3353             0             1             0  \n",
      "3394             0             0             0  \n",
      "3960             0             0             0  \n",
      "4033             0             0             0  \n",
      "4091             0             0             0  \n",
      "4202             0             0             0  \n",
      "4284             0             0             1  \n",
      "4460             0             0             0  \n",
      "4726             0             0             0  \n",
      "4732             0             0             0  \n",
      "4748             0             0             0  \n",
      "4931             0             0             0  \n",
      "\n",
      "[12 rows x 46 columns]\n"
     ]
    }
   ],
   "source": [
    "print(df_college.loc[df_college['HOUSING'].isin(['W'])])\n"
   ]
  },
  {
   "cell_type": "code",
   "execution_count": 70,
   "id": "aaf4bfd3-1bf0-4556-887c-ada2df857c1d",
   "metadata": {},
   "outputs": [],
   "source": [
    "df_college = df_college[df_college.HOUSING != \"W\"]\n"
   ]
  },
  {
   "cell_type": "code",
   "execution_count": 71,
   "id": "4c296473-8629-4841-a434-6279256b17ab",
   "metadata": {},
   "outputs": [
    {
     "data": {
      "text/plain": [
       "PIDMTERM                    False\n",
       "TERM                        False\n",
       "1st_College_Semester_GPA    False\n",
       "HighSchool                  False\n",
       "SARADAP_PIDM                False\n",
       "AGE                         False\n",
       "MILES_FROM_TTU              False\n",
       "APPDT                        True\n",
       "Hours_Transferred_In        False\n",
       "HS_GRAD_YEAR                False\n",
       "HIGH_SCHOOL_GPA             False\n",
       "COLLEGE_CODE_DESC           False\n",
       "MAJOR_DESC                  False\n",
       "HOUSING                     False\n",
       "ORIENTATION_SESSION         False\n",
       "ORIENTATION_COMPLETED       False\n",
       "ACT_COMPOSITE               False\n",
       "Ethnicity                   False\n",
       "INOUTST_Desc                False\n",
       "LOAD_Desc                   False\n",
       "Program_Name                False\n",
       "Pell_Eligible               False\n",
       "First_Gen_Status            False\n",
       "Appalachian_County          False\n",
       "TN_Geographic_Divisions     False\n",
       "MAJOR                       False\n",
       "CLASS                       False\n",
       "SEGMENT                     False\n",
       "COLLEGES1                   False\n",
       "MAJORS1                     False\n",
       "Spring_1_Retention          False\n",
       "College_Change              False\n",
       "Major_Change                False\n",
       "gender_0                    False\n",
       "female                      False\n",
       "male                        False\n",
       "gender_N                    False\n",
       "college_of_AH               False\n",
       "college_of_AS               False\n",
       "college_of_BA               False\n",
       "college_of_ED               False\n",
       "college_of_EN               False\n",
       "college_of_FA               False\n",
       "college_of_IP               False\n",
       "college_of_IS               False\n",
       "college_of_NU               False\n",
       "dtype: bool"
      ]
     },
     "execution_count": 71,
     "metadata": {},
     "output_type": "execute_result"
    }
   ],
   "source": [
    "df_college.isin(['1-Oct-21']).any()\n",
    "#1-Oct-21\n",
    "#4-Nov-21\n",
    "#24-Jan-22\n",
    "#14-Aug-18\n"
   ]
  },
  {
   "cell_type": "code",
   "execution_count": 72,
   "id": "7ddbe48e-4100-490b-bd21-ff851e50a7c6",
   "metadata": {},
   "outputs": [],
   "source": [
    "df_college = df_college[df_college.APPDT != \"1-Oct-21\"]\n",
    "df_college = df_college[df_college.APPDT != \"4-Nov-21\"]\n",
    "df_college = df_college[df_college.APPDT != \"24-Jan-22\"]\n",
    "df_college = df_college[df_college.APPDT != \"14-Aug-18\"]"
   ]
  },
  {
   "cell_type": "code",
   "execution_count": 86,
   "id": "9994ff9b-fd52-44d7-95bc-35758f1cee0a",
   "metadata": {},
   "outputs": [
    {
     "name": "stdout",
     "output_type": "stream",
     "text": [
      "      1st_College_Semester_GPA  Hours_Transferred_In  HIGH_SCHOOL_GPA  \\\n",
      "0                         2.00                   0.0             3.02   \n",
      "1                         2.67                   0.0             2.64   \n",
      "2                         2.45                   0.0             4.00   \n",
      "3                         2.60                   9.0             3.41   \n",
      "4                         1.50                   0.0             2.52   \n",
      "...                        ...                   ...              ...   \n",
      "7087                      1.29                   0.0             2.50   \n",
      "7088                      0.38                   0.0             2.61   \n",
      "7089                      3.08                   0.0             2.80   \n",
      "7090                      2.50                   0.0             0.00   \n",
      "7091                      2.86                   0.0             3.09   \n",
      "\n",
      "      ORIENTATION_SESSION  ACT_COMPOSITE  Pell_Eligible  First_Gen_Status  \\\n",
      "0                      10             17              1                 1   \n",
      "1                      21             20              0                 0   \n",
      "2                       2             31              0                 0   \n",
      "3                       4             25              0                 0   \n",
      "4                      21             24              1                 1   \n",
      "...                   ...            ...            ...               ...   \n",
      "7087                   20              0              0                 0   \n",
      "7088                   20              0              0                 0   \n",
      "7089                   25             22              1                 1   \n",
      "7090                   20              0              0                 0   \n",
      "7091                    0              0              0                 0   \n",
      "\n",
      "      Appalachian_County  college_of_AH  college_of_AS  college_of_BA  \\\n",
      "0                      1              0              0              0   \n",
      "1                      1              0              0              0   \n",
      "2                      1              0              0              0   \n",
      "3                      1              0              1              0   \n",
      "4                      1              0              0              1   \n",
      "...                  ...            ...            ...            ...   \n",
      "7087                   0              0              0              1   \n",
      "7088                   0              1              0              0   \n",
      "7089                   0              0              0              0   \n",
      "7090                   0              0              0              0   \n",
      "7091                   0              0              0              1   \n",
      "\n",
      "      college_of_ED  college_of_EN  college_of_FA  college_of_IP  \\\n",
      "0                 0              0              0              1   \n",
      "1                 0              1              0              0   \n",
      "2                 0              1              0              0   \n",
      "3                 0              0              0              0   \n",
      "4                 0              0              0              0   \n",
      "...             ...            ...            ...            ...   \n",
      "7087              0              0              0              0   \n",
      "7088              0              0              0              0   \n",
      "7089              0              1              0              0   \n",
      "7090              0              0              0              0   \n",
      "7091              0              0              0              0   \n",
      "\n",
      "      college_of_IS  college_of_NU  \n",
      "0                 0              0  \n",
      "1                 0              0  \n",
      "2                 0              0  \n",
      "3                 0              0  \n",
      "4                 0              0  \n",
      "...             ...            ...  \n",
      "7087              0              0  \n",
      "7088              0              0  \n",
      "7089              0              0  \n",
      "7090              1              0  \n",
      "7091              0              0  \n",
      "\n",
      "[7076 rows x 17 columns]\n",
      "0       0\n",
      "1       0\n",
      "2       1\n",
      "3       1\n",
      "4       1\n",
      "       ..\n",
      "7087    1\n",
      "7088    1\n",
      "7089    1\n",
      "7090    1\n",
      "7091    1\n",
      "Name: Spring_1_Retention, Length: 7076, dtype: int64\n"
     ]
    }
   ],
   "source": [
    "#not using APPDT right now\n",
    "cols = [2,8,10,14,16,21,22,23,37,38,39,40,41,42,43,44,45]\n",
    "\n",
    "x = df_college[df_college.columns[cols]]\n",
    "y = df_college[df_college.columns[30]]\n",
    "\n",
    "print(x)\n",
    "print(y)"
   ]
  },
  {
   "cell_type": "code",
   "execution_count": 87,
   "id": "8f05a596-f914-4401-8176-545ecc5f0aad",
   "metadata": {},
   "outputs": [
    {
     "name": "stdout",
     "output_type": "stream",
     "text": [
      "[[0.5        0.         0.00583012 ... 1.         0.         0.        ]\n",
      " [0.6675     0.         0.00509653 ... 0.         0.         0.        ]\n",
      " [0.6125     0.         0.00772201 ... 0.         0.         0.        ]\n",
      " ...\n",
      " [0.77       0.         0.00540541 ... 0.         0.         0.        ]\n",
      " [0.625      0.         0.         ... 0.         1.         0.        ]\n",
      " [0.715      0.         0.00596525 ... 0.         0.         0.        ]]\n"
     ]
    }
   ],
   "source": [
    "standardizer = MinMaxScaler()\n",
    "x_standard = standardizer.fit_transform(x)\n",
    "\n",
    "print(x_standard)"
   ]
  },
  {
   "cell_type": "code",
   "execution_count": 88,
   "id": "91bdd55f-87e9-4f56-9b18-f1368b61408e",
   "metadata": {},
   "outputs": [
    {
     "name": "stdout",
     "output_type": "stream",
     "text": [
      "[[0.8025     0.00342173 0.00750965 ... 0.         0.         0.        ]\n",
      " [0.2825     0.         0.0077027  ... 0.         0.         0.        ]\n",
      " [1.         0.         0.00772201 ... 0.         0.         0.        ]\n",
      " ...\n",
      " [0.9275     0.00570288 0.00772201 ... 0.         0.         0.        ]\n",
      " [0.9375     0.         0.00640927 ... 0.         0.         0.        ]\n",
      " [0.875      0.         0.00745174 ... 0.         0.         0.        ]]\n"
     ]
    }
   ],
   "source": [
    "x_train,x_test,y_train,y_test = train_test_split(x_standard, y, train_size=0.6, random_state=0)\n",
    "\n",
    "print(x_train)"
   ]
  },
  {
   "cell_type": "code",
   "execution_count": 89,
   "id": "42e2e221-8605-4f63-8b08-cf5ddc7c0a11",
   "metadata": {},
   "outputs": [
    {
     "name": "stdout",
     "output_type": "stream",
     "text": [
      "Optimization terminated successfully.\n",
      "         Current function value: 0.218319\n",
      "         Iterations 8\n",
      "                           Logit Regression Results                           \n",
      "==============================================================================\n",
      "Dep. Variable:     Spring_1_Retention   No. Observations:                 4245\n",
      "Model:                          Logit   Df Residuals:                     4228\n",
      "Method:                           MLE   Df Model:                           16\n",
      "Date:                Tue, 11 Apr 2023   Pseudo R-squ.:                  0.3342\n",
      "Time:                        20:31:49   Log-Likelihood:                -926.76\n",
      "converged:                       True   LL-Null:                       -1392.0\n",
      "Covariance Type:            nonrobust   LLR p-value:                8.297e-188\n",
      "==============================================================================\n",
      "                 coef    std err          z      P>|z|      [0.025      0.975]\n",
      "------------------------------------------------------------------------------\n",
      "x1             5.0457      0.208     24.311      0.000       4.639       5.452\n",
      "x2            -2.9385      3.438     -0.855      0.393      -9.676       3.799\n",
      "x3             0.3568     18.088      0.020      0.984     -35.096      35.809\n",
      "x4            -0.4666      0.316     -1.478      0.139      -1.085       0.152\n",
      "x5             0.7874      0.524      1.503      0.133      -0.239       1.814\n",
      "x6            -0.0379      0.135     -0.281      0.778      -0.302       0.226\n",
      "x7            -0.0414      0.138     -0.301      0.764      -0.312       0.229\n",
      "x8            -0.1984      0.130     -1.523      0.128      -0.454       0.057\n",
      "x9            -0.8199      0.440     -1.864      0.062      -1.682       0.042\n",
      "x10           -0.7772      0.409     -1.898      0.058      -1.580       0.025\n",
      "x11           -0.8125      0.400     -2.029      0.042      -1.597      -0.028\n",
      "x12           -1.0271      0.398     -2.580      0.010      -1.807      -0.247\n",
      "x13           -0.5265      0.422     -1.246      0.213      -1.355       0.302\n",
      "x14           -1.2844      0.486     -2.643      0.008      -2.237      -0.332\n",
      "x15           -1.3691      0.440     -3.115      0.002      -2.231      -0.508\n",
      "x16           -0.8213      0.376     -2.185      0.029      -1.558      -0.085\n",
      "x17           -0.9120      0.429     -2.124      0.034      -1.754      -0.070\n",
      "==============================================================================\n"
     ]
    }
   ],
   "source": [
    "model = sm.Logit(y_train, x_train)\n",
    "result = model.fit()\n",
    "print(result.summary())\n"
   ]
  },
  {
   "cell_type": "code",
   "execution_count": 92,
   "id": "63818373-a175-4cf2-bb43-6720b00522a0",
   "metadata": {},
   "outputs": [
    {
     "name": "stdout",
     "output_type": "stream",
     "text": [
      "      1st_College_Semester_GPA  college_of_NU  college_of_IS  college_of_IP  \\\n",
      "0                         2.00              0              0              1   \n",
      "1                         2.67              0              0              0   \n",
      "2                         2.45              0              0              0   \n",
      "3                         2.60              0              0              0   \n",
      "4                         1.50              0              0              0   \n",
      "...                        ...            ...            ...            ...   \n",
      "7087                      1.29              0              0              0   \n",
      "7088                      0.38              0              0              0   \n",
      "7089                      3.08              0              0              0   \n",
      "7090                      2.50              0              1              0   \n",
      "7091                      2.86              0              0              0   \n",
      "\n",
      "      college_of_FA  college_of_EN  college_of_ED  college_of_AH  \n",
      "0                 0              0              0              0  \n",
      "1                 0              1              0              0  \n",
      "2                 0              1              0              0  \n",
      "3                 0              0              0              0  \n",
      "4                 0              0              0              0  \n",
      "...             ...            ...            ...            ...  \n",
      "7087              0              0              0              0  \n",
      "7088              0              0              0              1  \n",
      "7089              0              1              0              0  \n",
      "7090              0              0              0              0  \n",
      "7091              0              0              0              0  \n",
      "\n",
      "[7076 rows x 8 columns]\n",
      "0       0\n",
      "1       0\n",
      "2       1\n",
      "3       1\n",
      "4       1\n",
      "       ..\n",
      "7087    1\n",
      "7088    1\n",
      "7089    1\n",
      "7090    1\n",
      "7091    1\n",
      "Name: Spring_1_Retention, Length: 7076, dtype: int64\n"
     ]
    }
   ],
   "source": [
    "#not using APPDT right now\n",
    "cols = [2,45,44,43,42,41,40,37]\n",
    "\n",
    "x = df_college[df_college.columns[cols]]\n",
    "y = df_college[df_college.columns[30]]\n",
    "\n",
    "print(x)\n",
    "print(y)"
   ]
  },
  {
   "cell_type": "code",
   "execution_count": 95,
   "id": "0a37d0fc-78e9-4c36-adbd-2df95efe235c",
   "metadata": {},
   "outputs": [
    {
     "name": "stdout",
     "output_type": "stream",
     "text": [
      "[[0.5    0.     0.     ... 0.     0.     0.    ]\n",
      " [0.6675 0.     0.     ... 1.     0.     0.    ]\n",
      " [0.6125 0.     0.     ... 1.     0.     0.    ]\n",
      " ...\n",
      " [0.77   0.     0.     ... 1.     0.     0.    ]\n",
      " [0.625  0.     1.     ... 0.     0.     0.    ]\n",
      " [0.715  0.     0.     ... 0.     0.     0.    ]]\n"
     ]
    }
   ],
   "source": [
    "standardizer = MinMaxScaler()\n",
    "x_standard = standardizer.fit_transform(x)\n",
    "\n",
    "print(x_standard)"
   ]
  },
  {
   "cell_type": "code",
   "execution_count": 96,
   "id": "4eee12c8-b989-404a-8abf-6a66e4a388e6",
   "metadata": {},
   "outputs": [
    {
     "name": "stdout",
     "output_type": "stream",
     "text": [
      "[[0.8025 0.     0.     ... 0.     0.     0.    ]\n",
      " [0.2825 0.     0.     ... 0.     0.     0.    ]\n",
      " [1.     0.     0.     ... 1.     0.     0.    ]\n",
      " ...\n",
      " [0.9275 0.     0.     ... 0.     1.     0.    ]\n",
      " [0.9375 0.     0.     ... 1.     0.     0.    ]\n",
      " [0.875  0.     0.     ... 0.     0.     0.    ]]\n"
     ]
    }
   ],
   "source": [
    "x_train,x_test,y_train,y_test = train_test_split(x_standard, y, train_size=0.6, random_state=0)\n",
    "\n",
    "print(x_train)"
   ]
  },
  {
   "cell_type": "code",
   "execution_count": 97,
   "id": "0a7e7569-a785-4c6e-b722-ea703b47a7d3",
   "metadata": {},
   "outputs": [
    {
     "name": "stdout",
     "output_type": "stream",
     "text": [
      "Optimization terminated successfully.\n",
      "         Current function value: 0.221515\n",
      "         Iterations 8\n",
      "                           Logit Regression Results                           \n",
      "==============================================================================\n",
      "Dep. Variable:     Spring_1_Retention   No. Observations:                 4245\n",
      "Model:                          Logit   Df Residuals:                     4237\n",
      "Method:                           MLE   Df Model:                            7\n",
      "Date:                Tue, 11 Apr 2023   Pseudo R-squ.:                  0.3245\n",
      "Time:                        20:37:46   Log-Likelihood:                -940.33\n",
      "converged:                       True   LL-Null:                       -1392.0\n",
      "Covariance Type:            nonrobust   LLR p-value:                8.921e-191\n",
      "==============================================================================\n",
      "                 coef    std err          z      P>|z|      [0.025      0.975]\n",
      "------------------------------------------------------------------------------\n",
      "x1             4.7142      0.173     27.198      0.000       4.375       5.054\n",
      "x2            -0.5944      0.231     -2.570      0.010      -1.048      -0.141\n",
      "x3            -0.5786      0.156     -3.704      0.000      -0.885      -0.272\n",
      "x4            -1.0292      0.279     -3.684      0.000      -1.577      -0.482\n",
      "x5            -0.9244      0.301     -3.066      0.002      -1.515      -0.333\n",
      "x6            -0.0977      0.146     -0.669      0.504      -0.384       0.189\n",
      "x7            -0.7365      0.183     -4.017      0.000      -1.096      -0.377\n",
      "x8            -0.5024      0.257     -1.953      0.051      -1.007       0.002\n",
      "==============================================================================\n"
     ]
    }
   ],
   "source": [
    "model = sm.Logit(y_train, x_train)\n",
    "result = model.fit()\n",
    "print(result.summary())\n"
   ]
  },
  {
   "cell_type": "code",
   "execution_count": 98,
   "id": "bd098823-866d-4f68-a2cc-7de6c73332be",
   "metadata": {},
   "outputs": [
    {
     "name": "stdout",
     "output_type": "stream",
     "text": [
      "      1st_College_Semester_GPA  college_of_NU  college_of_IS  college_of_IP  \\\n",
      "0                         2.00              0              0              1   \n",
      "1                         2.67              0              0              0   \n",
      "2                         2.45              0              0              0   \n",
      "3                         2.60              0              0              0   \n",
      "4                         1.50              0              0              0   \n",
      "...                        ...            ...            ...            ...   \n",
      "7087                      1.29              0              0              0   \n",
      "7088                      0.38              0              0              0   \n",
      "7089                      3.08              0              0              0   \n",
      "7090                      2.50              0              1              0   \n",
      "7091                      2.86              0              0              0   \n",
      "\n",
      "      college_of_FA  college_of_ED  college_of_AH  \n",
      "0                 0              0              0  \n",
      "1                 0              0              0  \n",
      "2                 0              0              0  \n",
      "3                 0              0              0  \n",
      "4                 0              0              0  \n",
      "...             ...            ...            ...  \n",
      "7087              0              0              0  \n",
      "7088              0              0              1  \n",
      "7089              0              0              0  \n",
      "7090              0              0              0  \n",
      "7091              0              0              0  \n",
      "\n",
      "[7076 rows x 7 columns]\n",
      "0       0\n",
      "1       0\n",
      "2       1\n",
      "3       1\n",
      "4       1\n",
      "       ..\n",
      "7087    1\n",
      "7088    1\n",
      "7089    1\n",
      "7090    1\n",
      "7091    1\n",
      "Name: Spring_1_Retention, Length: 7076, dtype: int64\n"
     ]
    }
   ],
   "source": [
    "#not using APPDT right now\n",
    "cols = [2,6,45,44,43,42,40,37]\n",
    "\n",
    "x = df_college[df_college.columns[cols]]\n",
    "y = df_college[df_college.columns[30]]\n",
    "\n",
    "print(x)\n",
    "print(y)"
   ]
  },
  {
   "cell_type": "code",
   "execution_count": 99,
   "id": "989682bc-f920-4482-bf6a-fdb96344fa12",
   "metadata": {},
   "outputs": [
    {
     "name": "stdout",
     "output_type": "stream",
     "text": [
      "[[0.5    0.     0.     ... 0.     0.     0.    ]\n",
      " [0.6675 0.     0.     ... 0.     0.     0.    ]\n",
      " [0.6125 0.     0.     ... 0.     0.     0.    ]\n",
      " ...\n",
      " [0.77   0.     0.     ... 0.     0.     0.    ]\n",
      " [0.625  0.     1.     ... 0.     0.     0.    ]\n",
      " [0.715  0.     0.     ... 0.     0.     0.    ]]\n"
     ]
    }
   ],
   "source": [
    "standardizer = MinMaxScaler()\n",
    "x_standard = standardizer.fit_transform(x)\n",
    "\n",
    "print(x_standard)"
   ]
  },
  {
   "cell_type": "code",
   "execution_count": 100,
   "id": "b27f407e-8503-473e-82c1-9c9026a1474f",
   "metadata": {},
   "outputs": [
    {
     "name": "stdout",
     "output_type": "stream",
     "text": [
      "[[0.8025 0.     0.     ... 0.     0.     0.    ]\n",
      " [0.2825 0.     0.     ... 0.     0.     0.    ]\n",
      " [1.     0.     0.     ... 0.     0.     0.    ]\n",
      " ...\n",
      " [0.9275 0.     0.     ... 0.     1.     0.    ]\n",
      " [0.9375 0.     0.     ... 0.     0.     0.    ]\n",
      " [0.875  0.     0.     ... 0.     0.     0.    ]]\n"
     ]
    }
   ],
   "source": [
    "x_train,x_test,y_train,y_test = train_test_split(x_standard, y, train_size=0.6, random_state=0)\n",
    "\n",
    "print(x_train)"
   ]
  },
  {
   "cell_type": "code",
   "execution_count": 101,
   "id": "af9cd7b5-7e4b-4fdf-8561-ea2f05bf6cce",
   "metadata": {},
   "outputs": [
    {
     "name": "stdout",
     "output_type": "stream",
     "text": [
      "Optimization terminated successfully.\n",
      "         Current function value: 0.221567\n",
      "         Iterations 8\n",
      "                           Logit Regression Results                           \n",
      "==============================================================================\n",
      "Dep. Variable:     Spring_1_Retention   No. Observations:                 4245\n",
      "Model:                          Logit   Df Residuals:                     4238\n",
      "Method:                           MLE   Df Model:                            6\n",
      "Date:                Tue, 11 Apr 2023   Pseudo R-squ.:                  0.3243\n",
      "Time:                        20:38:41   Log-Likelihood:                -940.55\n",
      "converged:                       True   LL-Null:                       -1392.0\n",
      "Covariance Type:            nonrobust   LLR p-value:                8.695e-192\n",
      "==============================================================================\n",
      "                 coef    std err          z      P>|z|      [0.025      0.975]\n",
      "------------------------------------------------------------------------------\n",
      "x1             4.6564      0.149     31.177      0.000       4.364       4.949\n",
      "x2            -0.5647      0.226     -2.497      0.013      -1.008      -0.121\n",
      "x3            -0.5598      0.153     -3.655      0.000      -0.860      -0.260\n",
      "x4            -1.0015      0.275     -3.641      0.000      -1.541      -0.462\n",
      "x5            -0.8937      0.297     -3.011      0.003      -1.475      -0.312\n",
      "x6            -0.7073      0.177     -3.987      0.000      -1.055      -0.360\n",
      "x7            -0.4762      0.253     -1.880      0.060      -0.973       0.020\n",
      "==============================================================================\n"
     ]
    }
   ],
   "source": [
    "model = sm.Logit(y_train, x_train)\n",
    "result = model.fit()\n",
    "print(result.summary())\n"
   ]
  },
  {
   "cell_type": "code",
   "execution_count": 104,
   "id": "d26d253f-aed9-4111-a51a-4309d7fc6852",
   "metadata": {},
   "outputs": [
    {
     "data": {
      "text/html": [
       "<div>\n",
       "<style scoped>\n",
       "    .dataframe tbody tr th:only-of-type {\n",
       "        vertical-align: middle;\n",
       "    }\n",
       "\n",
       "    .dataframe tbody tr th {\n",
       "        vertical-align: top;\n",
       "    }\n",
       "\n",
       "    .dataframe thead th {\n",
       "        text-align: right;\n",
       "    }\n",
       "</style>\n",
       "<table border=\"1\" class=\"dataframe\">\n",
       "  <thead>\n",
       "    <tr style=\"text-align: right;\">\n",
       "      <th></th>\n",
       "      <th>Coefficients</th>\n",
       "      <th>Odds</th>\n",
       "      <th>Probabilities</th>\n",
       "    </tr>\n",
       "  </thead>\n",
       "  <tbody>\n",
       "    <tr>\n",
       "      <th>x1</th>\n",
       "      <td>4.656441</td>\n",
       "      <td>105.260828</td>\n",
       "      <td>0.990589</td>\n",
       "    </tr>\n",
       "    <tr>\n",
       "      <th>x2</th>\n",
       "      <td>-0.564705</td>\n",
       "      <td>0.568528</td>\n",
       "      <td>0.362460</td>\n",
       "    </tr>\n",
       "    <tr>\n",
       "      <th>x3</th>\n",
       "      <td>-0.559786</td>\n",
       "      <td>0.571331</td>\n",
       "      <td>0.363597</td>\n",
       "    </tr>\n",
       "    <tr>\n",
       "      <th>x4</th>\n",
       "      <td>-1.001508</td>\n",
       "      <td>0.367325</td>\n",
       "      <td>0.268645</td>\n",
       "    </tr>\n",
       "    <tr>\n",
       "      <th>x5</th>\n",
       "      <td>-0.893735</td>\n",
       "      <td>0.409125</td>\n",
       "      <td>0.290340</td>\n",
       "    </tr>\n",
       "    <tr>\n",
       "      <th>x6</th>\n",
       "      <td>-0.707322</td>\n",
       "      <td>0.492963</td>\n",
       "      <td>0.330191</td>\n",
       "    </tr>\n",
       "    <tr>\n",
       "      <th>x7</th>\n",
       "      <td>-0.476195</td>\n",
       "      <td>0.621142</td>\n",
       "      <td>0.383151</td>\n",
       "    </tr>\n",
       "  </tbody>\n",
       "</table>\n",
       "</div>"
      ],
      "text/plain": [
       "    Coefficients        Odds  Probabilities\n",
       "x1      4.656441  105.260828       0.990589\n",
       "x2     -0.564705    0.568528       0.362460\n",
       "x3     -0.559786    0.571331       0.363597\n",
       "x4     -1.001508    0.367325       0.268645\n",
       "x5     -0.893735    0.409125       0.290340\n",
       "x6     -0.707322    0.492963       0.330191\n",
       "x7     -0.476195    0.621142       0.383151"
      ]
     },
     "execution_count": 104,
     "metadata": {},
     "output_type": "execute_result"
    }
   ],
   "source": [
    "# Odds and Probabilities of Coefficients\n",
    " \n",
    "odds = np.exp(result.params) \n",
    "prob = odds/(1+odds)\n",
    "\n",
    "df_compare = pd.DataFrame({'Coefficients': result.params, 'Odds': odds, 'Probabilities': prob})\n",
    "df_compare\n",
    "\n"
   ]
  },
  {
   "cell_type": "code",
   "execution_count": 106,
   "id": "8ae7e6b2-a325-4054-888d-09c6d82c4a63",
   "metadata": {},
   "outputs": [
    {
     "data": {
      "text/plain": [
       "LogisticRegression()"
      ]
     },
     "execution_count": 106,
     "metadata": {},
     "output_type": "execute_result"
    }
   ],
   "source": [
    "log_regression = LogisticRegression()\n",
    "\n",
    "log_regression.fit(x_train,y_train)\n"
   ]
  },
  {
   "cell_type": "code",
   "execution_count": 108,
   "id": "bdafd784-7743-43c4-9c57-03389ccdf707",
   "metadata": {},
   "outputs": [],
   "source": [
    "y_pred = log_regression.predict(x_test)\n"
   ]
  },
  {
   "cell_type": "code",
   "execution_count": 110,
   "id": "81189bf9-c1e1-4dce-a9e5-c7bc75fce922",
   "metadata": {},
   "outputs": [
    {
     "data": {
      "text/html": [
       "<div>\n",
       "<style scoped>\n",
       "    .dataframe tbody tr th:only-of-type {\n",
       "        vertical-align: middle;\n",
       "    }\n",
       "\n",
       "    .dataframe tbody tr th {\n",
       "        vertical-align: top;\n",
       "    }\n",
       "\n",
       "    .dataframe thead th {\n",
       "        text-align: right;\n",
       "    }\n",
       "</style>\n",
       "<table border=\"1\" class=\"dataframe\">\n",
       "  <thead>\n",
       "    <tr style=\"text-align: right;\">\n",
       "      <th></th>\n",
       "      <th>Actual</th>\n",
       "      <th>Predicted</th>\n",
       "      <th>Probability</th>\n",
       "    </tr>\n",
       "  </thead>\n",
       "  <tbody>\n",
       "    <tr>\n",
       "      <th>1091</th>\n",
       "      <td>1</td>\n",
       "      <td>1</td>\n",
       "      <td>0.881225</td>\n",
       "    </tr>\n",
       "    <tr>\n",
       "      <th>6229</th>\n",
       "      <td>1</td>\n",
       "      <td>0</td>\n",
       "      <td>0.386217</td>\n",
       "    </tr>\n",
       "    <tr>\n",
       "      <th>4747</th>\n",
       "      <td>1</td>\n",
       "      <td>1</td>\n",
       "      <td>0.941568</td>\n",
       "    </tr>\n",
       "    <tr>\n",
       "      <th>878</th>\n",
       "      <td>1</td>\n",
       "      <td>1</td>\n",
       "      <td>0.974608</td>\n",
       "    </tr>\n",
       "    <tr>\n",
       "      <th>4389</th>\n",
       "      <td>1</td>\n",
       "      <td>1</td>\n",
       "      <td>0.983822</td>\n",
       "    </tr>\n",
       "    <tr>\n",
       "      <th>...</th>\n",
       "      <td>...</td>\n",
       "      <td>...</td>\n",
       "      <td>...</td>\n",
       "    </tr>\n",
       "    <tr>\n",
       "      <th>890</th>\n",
       "      <td>0</td>\n",
       "      <td>0</td>\n",
       "      <td>0.251560</td>\n",
       "    </tr>\n",
       "    <tr>\n",
       "      <th>6903</th>\n",
       "      <td>1</td>\n",
       "      <td>1</td>\n",
       "      <td>0.941568</td>\n",
       "    </tr>\n",
       "    <tr>\n",
       "      <th>1709</th>\n",
       "      <td>1</td>\n",
       "      <td>1</td>\n",
       "      <td>0.871384</td>\n",
       "    </tr>\n",
       "    <tr>\n",
       "      <th>3019</th>\n",
       "      <td>1</td>\n",
       "      <td>1</td>\n",
       "      <td>0.969284</td>\n",
       "    </tr>\n",
       "    <tr>\n",
       "      <th>118</th>\n",
       "      <td>1</td>\n",
       "      <td>0</td>\n",
       "      <td>0.384277</td>\n",
       "    </tr>\n",
       "  </tbody>\n",
       "</table>\n",
       "<p>2831 rows × 3 columns</p>\n",
       "</div>"
      ],
      "text/plain": [
       "      Actual  Predicted  Probability\n",
       "1091       1          1     0.881225\n",
       "6229       1          0     0.386217\n",
       "4747       1          1     0.941568\n",
       "878        1          1     0.974608\n",
       "4389       1          1     0.983822\n",
       "...      ...        ...          ...\n",
       "890        0          0     0.251560\n",
       "6903       1          1     0.941568\n",
       "1709       1          1     0.871384\n",
       "3019       1          1     0.969284\n",
       "118        1          0     0.384277\n",
       "\n",
       "[2831 rows x 3 columns]"
      ]
     },
     "execution_count": 110,
     "metadata": {},
     "output_type": "execute_result"
    }
   ],
   "source": [
    "# Compare actual versus predicted values\n",
    "\n",
    "pred_prob = log_regression.predict_proba(x_test)[:,1]\n",
    "\n",
    "\n",
    "df_compare = pd.DataFrame({'Actual': y_test, 'Predicted': y_pred, 'Probability': pred_prob})\n",
    "df_compare\n"
   ]
  },
  {
   "cell_type": "code",
   "execution_count": 111,
   "id": "a4beb7a9-55ad-43c1-91b1-3b0bcfee3c4a",
   "metadata": {},
   "outputs": [
    {
     "name": "stdout",
     "output_type": "stream",
     "text": [
      "Actual       0     1\n",
      "Predicted           \n",
      "0          141    56\n",
      "1          139  2495\n"
     ]
    }
   ],
   "source": [
    "# Confussion Matrix - Original Model\n",
    "\n",
    "confusion_matrix = pd.crosstab(y_pred, y_test, rownames=['Predicted'], colnames=['Actual'])\n",
    "\n",
    "print (confusion_matrix)"
   ]
  },
  {
   "cell_type": "code",
   "execution_count": 113,
   "id": "f2d31ff0-c683-4686-95a2-ecca7ee56f73",
   "metadata": {},
   "outputs": [
    {
     "data": {
      "text/plain": [
       "[Text(0.5, 0, 'False'), Text(1.5, 0, 'True')]"
      ]
     },
     "execution_count": 113,
     "metadata": {},
     "output_type": "execute_result"
    },
    {
     "data": {
      "image/png": "[encoded data removed]",
      "text/plain": [
       "<Figure size 432x288 with 2 Axes>"
      ]
     },
     "metadata": {
      "needs_background": "light"
     },
     "output_type": "display_data"
    }
   ],
   "source": [
    "ax = sns.heatmap(confusion_matrix, annot=True, cmap='Blues')\n",
    "\n",
    "ax.set_title('Confusion Matrix with labels\\n\\n');\n",
    "ax.set_ylabel('\\nPredicted Values')\n",
    "ax.set_xlabel('Actual Values ');\n",
    "\n",
    "ax.yaxis.set_ticklabels(['False','True'])\n",
    "ax.xaxis.set_ticklabels(['False','True'])"
   ]
  },
  {
   "cell_type": "code",
   "execution_count": 114,
   "id": "9780dc70-8b66-4a09-b91c-28d2a2304a38",
   "metadata": {},
   "outputs": [
    {
     "name": "stdout",
     "output_type": "stream",
     "text": [
      "True Positive: 2495\n",
      "True Negative: 141\n",
      "False Positive: 139\n",
      "False Negative: 56\n"
     ]
    }
   ],
   "source": [
    "# Confussion Matix Values\n",
    "\n",
    "TP = confusion_matrix[1][1]\n",
    "TN = confusion_matrix[0][0]\n",
    "FP = confusion_matrix[0][1]\n",
    "FN = confusion_matrix[1][0]\n",
    "\n",
    "print(\"True Positive:\", TP)\n",
    "print(\"True Negative:\", TN)\n",
    "print(\"False Positive:\", FP)\n",
    "print(\"False Negative:\", FN)"
   ]
  },
  {
   "cell_type": "code",
   "execution_count": 115,
   "id": "b8378df8-402d-4382-a6e4-d3cd137b3ec9",
   "metadata": {},
   "outputs": [
    {
     "name": "stdout",
     "output_type": "stream",
     "text": [
      "Confusion Matrix Metrics\n",
      "\n",
      "Accuracy: 93.11 %\n",
      "Sensitivity: 97.8 %\n",
      "Specificity: 50.36 %\n",
      "Positive Predictive Value: 94.72 %\n",
      "Negative Predictive Value: 71.57 %\n",
      "False Discovery Rate: 5.28 %\n",
      "False Omission Rate: 28.43 %\n"
     ]
    }
   ],
   "source": [
    "# Common confusion matrix metrics\n",
    "\n",
    "print(\"Confusion Matrix Metrics\")\n",
    "print()\n",
    "\n",
    "Accuracy    = round(100*((TP+TN)/(TP+TN+FP+FN)),2)\n",
    "Sensitivity = round(100*TP/(TP+FN),2)  # or Recall\n",
    "Specificity = round(100*TN/(FP+TN),2)\n",
    "PPV         = round(100*TP/(TP+FP),2)  # or Precision\n",
    "NPV         = round(100*TN/(TN+FN),2)\n",
    "FDR         = round(100*FP/(TP+FP),2)\n",
    "FOR         = round(100*FN/(TN+FN),2) \n",
    "\n",
    "print(\"Accuracy:\", Accuracy, \"%\")\n",
    "print(\"Sensitivity:\", Sensitivity, \"%\")\n",
    "print(\"Specificity:\", Specificity, \"%\")\n",
    "print(\"Positive Predictive Value:\", PPV, \"%\")\n",
    "print(\"Negative Predictive Value:\", NPV, \"%\")\n",
    "print(\"False Discovery Rate:\", FDR, \"%\")\n",
    "print(\"False Omission Rate:\", FOR, \"%\")\n"
   ]
  },
  {
   "cell_type": "code",
   "execution_count": 116,
   "id": "cc46cef9-dfa3-4f2e-98c1-37d564c9e4ff",
   "metadata": {},
   "outputs": [
    {
     "name": "stdout",
     "output_type": "stream",
     "text": [
      "              precision    recall  f1-score   support\n",
      "\n",
      "           0       0.72      0.50      0.59       280\n",
      "           1       0.95      0.98      0.96      2551\n",
      "\n",
      "    accuracy                           0.93      2831\n",
      "   macro avg       0.83      0.74      0.78      2831\n",
      "weighted avg       0.92      0.93      0.93      2831\n",
      "\n"
     ]
    }
   ],
   "source": [
    "# Precision, Recall and F1 results\n",
    "\n",
    "from sklearn.metrics import classification_report\n",
    "\n",
    "print(classification_report(y_test, y_pred))\n",
    "#print(classification_report(y_test, pred_values))"
   ]
  },
  {
   "cell_type": "code",
   "execution_count": 118,
   "id": "e5fffe9e-944d-4f77-b6bb-b4fe5c85edf8",
   "metadata": {},
   "outputs": [
    {
     "data": {
      "image/png": "[encoded data removed]",
      "text/plain": [
       "<Figure size 432x288 with 1 Axes>"
      ]
     },
     "metadata": {
      "needs_background": "light"
     },
     "output_type": "display_data"
    }
   ],
   "source": [
    "#plot ROC curve (check )\n",
    "\n",
    "y_pred_proba = log_regression.predict_proba(x_test)[::,1]\n",
    "fpr, tpr, _ = metrics.roc_curve(y_test,  y_pred_proba)\n",
    "auc = metrics.roc_auc_score(y_test, y_pred_proba)\n",
    "plt.plot(fpr,tpr,label=\"AUC=\"+str(auc))\n",
    "plt.legend(loc=4)\n",
    "plt.show()\n"
   ]
  },
  {
   "cell_type": "code",
   "execution_count": 120,
   "id": "440fbf2a-136a-475a-a328-e6b9c9161153",
   "metadata": {},
   "outputs": [
    {
     "data": {
      "text/html": [
       "<div>\n",
       "<style scoped>\n",
       "    .dataframe tbody tr th:only-of-type {\n",
       "        vertical-align: middle;\n",
       "    }\n",
       "\n",
       "    .dataframe tbody tr th {\n",
       "        vertical-align: top;\n",
       "    }\n",
       "\n",
       "    .dataframe thead th {\n",
       "        text-align: right;\n",
       "    }\n",
       "</style>\n",
       "<table border=\"1\" class=\"dataframe\">\n",
       "  <thead>\n",
       "    <tr style=\"text-align: right;\">\n",
       "      <th></th>\n",
       "      <th>Orig_Model</th>\n",
       "      <th>Revised_Model</th>\n",
       "    </tr>\n",
       "  </thead>\n",
       "  <tbody>\n",
       "    <tr>\n",
       "      <th>0</th>\n",
       "      <td>1</td>\n",
       "      <td>1</td>\n",
       "    </tr>\n",
       "    <tr>\n",
       "      <th>1</th>\n",
       "      <td>0</td>\n",
       "      <td>1</td>\n",
       "    </tr>\n",
       "    <tr>\n",
       "      <th>2</th>\n",
       "      <td>1</td>\n",
       "      <td>1</td>\n",
       "    </tr>\n",
       "    <tr>\n",
       "      <th>3</th>\n",
       "      <td>1</td>\n",
       "      <td>1</td>\n",
       "    </tr>\n",
       "    <tr>\n",
       "      <th>4</th>\n",
       "      <td>1</td>\n",
       "      <td>1</td>\n",
       "    </tr>\n",
       "    <tr>\n",
       "      <th>...</th>\n",
       "      <td>...</td>\n",
       "      <td>...</td>\n",
       "    </tr>\n",
       "    <tr>\n",
       "      <th>2826</th>\n",
       "      <td>0</td>\n",
       "      <td>0</td>\n",
       "    </tr>\n",
       "    <tr>\n",
       "      <th>2827</th>\n",
       "      <td>1</td>\n",
       "      <td>1</td>\n",
       "    </tr>\n",
       "    <tr>\n",
       "      <th>2828</th>\n",
       "      <td>1</td>\n",
       "      <td>1</td>\n",
       "    </tr>\n",
       "    <tr>\n",
       "      <th>2829</th>\n",
       "      <td>1</td>\n",
       "      <td>1</td>\n",
       "    </tr>\n",
       "    <tr>\n",
       "      <th>2830</th>\n",
       "      <td>0</td>\n",
       "      <td>1</td>\n",
       "    </tr>\n",
       "  </tbody>\n",
       "</table>\n",
       "<p>2831 rows × 2 columns</p>\n",
       "</div>"
      ],
      "text/plain": [
       "      Orig_Model  Revised_Model\n",
       "0              1              1\n",
       "1              0              1\n",
       "2              1              1\n",
       "3              1              1\n",
       "4              1              1\n",
       "...          ...            ...\n",
       "2826           0              0\n",
       "2827           1              1\n",
       "2828           1              1\n",
       "2829           1              1\n",
       "2830           0              1\n",
       "\n",
       "[2831 rows x 2 columns]"
      ]
     },
     "execution_count": 120,
     "metadata": {},
     "output_type": "execute_result"
    }
   ],
   "source": [
    "# Set true and false based on adjusted cut-off\n",
    "\n",
    "threshold = 0.35\n",
    "pred_values = np.where(log_regression.predict_proba(x_test)[:,1] > threshold, 1, 0)\n",
    "\n",
    "df_compare = pd.DataFrame({'Orig_Model': y_pred, 'Revised_Model': pred_values})\n",
    "\n",
    "df_compare\n"
   ]
  },
  {
   "cell_type": "code",
   "execution_count": 121,
   "id": "dbd1b863-4adf-4cf6-9ca4-2f4c8683d920",
   "metadata": {},
   "outputs": [
    {
     "data": {
      "text/html": [
       "<div>\n",
       "<style scoped>\n",
       "    .dataframe tbody tr th:only-of-type {\n",
       "        vertical-align: middle;\n",
       "    }\n",
       "\n",
       "    .dataframe tbody tr th {\n",
       "        vertical-align: top;\n",
       "    }\n",
       "\n",
       "    .dataframe thead th {\n",
       "        text-align: right;\n",
       "    }\n",
       "</style>\n",
       "<table border=\"1\" class=\"dataframe\">\n",
       "  <thead>\n",
       "    <tr style=\"text-align: right;\">\n",
       "      <th>col_0</th>\n",
       "      <th>Adjusted Threshold</th>\n",
       "    </tr>\n",
       "    <tr>\n",
       "      <th>Revised_Model</th>\n",
       "      <th></th>\n",
       "    </tr>\n",
       "  </thead>\n",
       "  <tbody>\n",
       "    <tr>\n",
       "      <th>0</th>\n",
       "      <td>62</td>\n",
       "    </tr>\n",
       "    <tr>\n",
       "      <th>1</th>\n",
       "      <td>2769</td>\n",
       "    </tr>\n",
       "  </tbody>\n",
       "</table>\n",
       "</div>"
      ],
      "text/plain": [
       "col_0          Adjusted Threshold\n",
       "Revised_Model                    \n",
       "0                              62\n",
       "1                            2769"
      ]
     },
     "execution_count": 121,
     "metadata": {},
     "output_type": "execute_result"
    }
   ],
   "source": [
    "# Distribution of y_pred and pred_values\n",
    "\n",
    "pd.crosstab(df_compare['Revised_Model'], \"Adjusted Threshold\")"
   ]
  },
  {
   "cell_type": "code",
   "execution_count": 122,
   "id": "acb9e957-6651-4f6d-876c-c9ffe349633f",
   "metadata": {},
   "outputs": [
    {
     "name": "stdout",
     "output_type": "stream",
     "text": [
      "Actual       0     1\n",
      "Predicted           \n",
      "0           48    14\n",
      "1          232  2537\n"
     ]
    }
   ],
   "source": [
    "# Confussion Matrix - Revised Threashold\n",
    "\n",
    "confusion_matrix = pd.crosstab(pred_values, y_test, rownames=['Predicted'], colnames=['Actual'])\n",
    "\n",
    "print (confusion_matrix)"
   ]
  },
  {
   "cell_type": "code",
   "execution_count": 123,
   "id": "db85ec90-8c5c-4b82-b2fa-c609ea051468",
   "metadata": {},
   "outputs": [
    {
     "name": "stdout",
     "output_type": "stream",
     "text": [
      "      1st_College_Semester_GPA  MILES_FROM_TTU  college_of_NU  college_of_IS  \\\n",
      "0                         2.00            0.98              0              0   \n",
      "1                         2.67            0.98              0              0   \n",
      "2                         2.45           15.60              0              0   \n",
      "3                         2.60           79.95              0              0   \n",
      "4                         1.50            2.23              0              0   \n",
      "...                        ...             ...            ...            ...   \n",
      "7087                      1.29            0.00              0              0   \n",
      "7088                      0.38            0.00              0              0   \n",
      "7089                      3.08            0.00              0              0   \n",
      "7090                      2.50            0.00              0              1   \n",
      "7091                      2.86            0.00              0              0   \n",
      "\n",
      "      college_of_IP  college_of_FA  college_of_ED  college_of_AH  \n",
      "0                 1              0              0              0  \n",
      "1                 0              0              0              0  \n",
      "2                 0              0              0              0  \n",
      "3                 0              0              0              0  \n",
      "4                 0              0              0              0  \n",
      "...             ...            ...            ...            ...  \n",
      "7087              0              0              0              0  \n",
      "7088              0              0              0              1  \n",
      "7089              0              0              0              0  \n",
      "7090              0              0              0              0  \n",
      "7091              0              0              0              0  \n",
      "\n",
      "[7076 rows x 8 columns]\n",
      "0       0\n",
      "1       0\n",
      "2       1\n",
      "3       1\n",
      "4       1\n",
      "       ..\n",
      "7087    1\n",
      "7088    1\n",
      "7089    1\n",
      "7090    1\n",
      "7091    1\n",
      "Name: Spring_1_Retention, Length: 7076, dtype: int64\n"
     ]
    }
   ],
   "source": [
    "#not using APPDT right now\n",
    "cols = [2,6,45,44,43,42,40,37]\n",
    "\n",
    "x = df_college[df_college.columns[cols]]\n",
    "y = df_college[df_college.columns[30]]\n",
    "\n",
    "print(x)\n",
    "print(y)"
   ]
  },
  {
   "cell_type": "code",
   "execution_count": 124,
   "id": "711f0383-5912-4528-b56c-c83c8b9350f1",
   "metadata": {},
   "outputs": [
    {
     "name": "stdout",
     "output_type": "stream",
     "text": [
      "[[5.00000000e-01 3.03321056e-04 0.00000000e+00 ... 0.00000000e+00\n",
      "  0.00000000e+00 0.00000000e+00]\n",
      " [6.67500000e-01 3.03321056e-04 0.00000000e+00 ... 0.00000000e+00\n",
      "  0.00000000e+00 0.00000000e+00]\n",
      " [6.12500000e-01 4.82837599e-03 0.00000000e+00 ... 0.00000000e+00\n",
      "  0.00000000e+00 0.00000000e+00]\n",
      " ...\n",
      " [7.70000000e-01 0.00000000e+00 0.00000000e+00 ... 0.00000000e+00\n",
      "  0.00000000e+00 0.00000000e+00]\n",
      " [6.25000000e-01 0.00000000e+00 0.00000000e+00 ... 0.00000000e+00\n",
      "  0.00000000e+00 0.00000000e+00]\n",
      " [7.15000000e-01 0.00000000e+00 0.00000000e+00 ... 0.00000000e+00\n",
      "  0.00000000e+00 0.00000000e+00]]\n"
     ]
    }
   ],
   "source": [
    "standardizer = MinMaxScaler()\n",
    "x_standard = standardizer.fit_transform(x)\n",
    "\n",
    "print(x_standard)"
   ]
  },
  {
   "cell_type": "code",
   "execution_count": 125,
   "id": "d699168c-47a8-45fb-9b27-364fa5bfb394",
   "metadata": {},
   "outputs": [
    {
     "name": "stdout",
     "output_type": "stream",
     "text": [
      "[[8.02500000e-01 2.02451329e-02 0.00000000e+00 ... 0.00000000e+00\n",
      "  0.00000000e+00 0.00000000e+00]\n",
      " [2.82500000e-01 5.31121359e-03 0.00000000e+00 ... 0.00000000e+00\n",
      "  0.00000000e+00 0.00000000e+00]\n",
      " [1.00000000e+00 6.90210158e-04 0.00000000e+00 ... 0.00000000e+00\n",
      "  0.00000000e+00 0.00000000e+00]\n",
      " ...\n",
      " [9.27500000e-01 2.98864094e-02 0.00000000e+00 ... 0.00000000e+00\n",
      "  1.00000000e+00 0.00000000e+00]\n",
      " [9.37500000e-01 1.98768145e-02 0.00000000e+00 ... 0.00000000e+00\n",
      "  0.00000000e+00 0.00000000e+00]\n",
      " [8.75000000e-01 1.80940295e-02 0.00000000e+00 ... 0.00000000e+00\n",
      "  0.00000000e+00 0.00000000e+00]]\n"
     ]
    }
   ],
   "source": [
    "x_train,x_test,y_train,y_test = train_test_split(x_standard, y, train_size=0.6, random_state=0)\n",
    "\n",
    "print(x_train)"
   ]
  },
  {
   "cell_type": "code",
   "execution_count": 126,
   "id": "dd229e92-c7df-4650-b271-a114ca5aa82c",
   "metadata": {},
   "outputs": [
    {
     "name": "stdout",
     "output_type": "stream",
     "text": [
      "Optimization terminated successfully.\n",
      "         Current function value: 0.220863\n",
      "         Iterations 8\n",
      "                           Logit Regression Results                           \n",
      "==============================================================================\n",
      "Dep. Variable:     Spring_1_Retention   No. Observations:                 4245\n",
      "Model:                          Logit   Df Residuals:                     4237\n",
      "Method:                           MLE   Df Model:                            7\n",
      "Date:                Tue, 11 Apr 2023   Pseudo R-squ.:                  0.3265\n",
      "Time:                        20:48:58   Log-Likelihood:                -937.56\n",
      "converged:                       True   LL-Null:                       -1392.0\n",
      "Covariance Type:            nonrobust   LLR p-value:                5.702e-192\n",
      "==============================================================================\n",
      "                 coef    std err          z      P>|z|      [0.025      0.975]\n",
      "------------------------------------------------------------------------------\n",
      "x1             4.7616      0.156     30.476      0.000       4.455       5.068\n",
      "x2            -3.4034      1.323     -2.573      0.010      -5.996      -0.811\n",
      "x3            -0.5562      0.228     -2.444      0.015      -1.002      -0.110\n",
      "x4            -0.5041      0.155     -3.246      0.001      -0.809      -0.200\n",
      "x5            -0.9725      0.277     -3.508      0.000      -1.516      -0.429\n",
      "x6            -0.8834      0.298     -2.967      0.003      -1.467      -0.300\n",
      "x7            -0.6801      0.178     -3.815      0.000      -1.030      -0.331\n",
      "x8            -0.4491      0.255     -1.763      0.078      -0.948       0.050\n",
      "==============================================================================\n"
     ]
    }
   ],
   "source": [
    "model = sm.Logit(y_train, x_train)\n",
    "result = model.fit()\n",
    "print(result.summary())\n"
   ]
  },
  {
   "cell_type": "code",
   "execution_count": 128,
   "id": "a29a9d96-f576-4163-bc5a-181b094610a8",
   "metadata": {},
   "outputs": [
    {
     "data": {
      "text/plain": [
       "LogisticRegression()"
      ]
     },
     "execution_count": 128,
     "metadata": {},
     "output_type": "execute_result"
    }
   ],
   "source": [
    "log_regression = LogisticRegression()\n",
    "\n",
    "log_regression.fit(x_train,y_train)\n"
   ]
  },
  {
   "cell_type": "code",
   "execution_count": 129,
   "id": "fb6f80a0-e9cd-4d61-9bf1-59832b645d3f",
   "metadata": {},
   "outputs": [],
   "source": [
    "y_pred = log_regression.predict(x_test)\n"
   ]
  },
  {
   "cell_type": "code",
   "execution_count": 130,
   "id": "6dd3c411-7165-4c85-9ee4-a3aa420bb1e8",
   "metadata": {},
   "outputs": [
    {
     "data": {
      "text/html": [
       "<div>\n",
       "<style scoped>\n",
       "    .dataframe tbody tr th:only-of-type {\n",
       "        vertical-align: middle;\n",
       "    }\n",
       "\n",
       "    .dataframe tbody tr th {\n",
       "        vertical-align: top;\n",
       "    }\n",
       "\n",
       "    .dataframe thead th {\n",
       "        text-align: right;\n",
       "    }\n",
       "</style>\n",
       "<table border=\"1\" class=\"dataframe\">\n",
       "  <thead>\n",
       "    <tr style=\"text-align: right;\">\n",
       "      <th></th>\n",
       "      <th>Actual</th>\n",
       "      <th>Predicted</th>\n",
       "      <th>Probability</th>\n",
       "    </tr>\n",
       "  </thead>\n",
       "  <tbody>\n",
       "    <tr>\n",
       "      <th>1091</th>\n",
       "      <td>1</td>\n",
       "      <td>1</td>\n",
       "      <td>0.881463</td>\n",
       "    </tr>\n",
       "    <tr>\n",
       "      <th>6229</th>\n",
       "      <td>1</td>\n",
       "      <td>0</td>\n",
       "      <td>0.385833</td>\n",
       "    </tr>\n",
       "    <tr>\n",
       "      <th>4747</th>\n",
       "      <td>1</td>\n",
       "      <td>1</td>\n",
       "      <td>0.941782</td>\n",
       "    </tr>\n",
       "    <tr>\n",
       "      <th>878</th>\n",
       "      <td>1</td>\n",
       "      <td>1</td>\n",
       "      <td>0.974808</td>\n",
       "    </tr>\n",
       "    <tr>\n",
       "      <th>4389</th>\n",
       "      <td>1</td>\n",
       "      <td>1</td>\n",
       "      <td>0.983819</td>\n",
       "    </tr>\n",
       "    <tr>\n",
       "      <th>...</th>\n",
       "      <td>...</td>\n",
       "      <td>...</td>\n",
       "      <td>...</td>\n",
       "    </tr>\n",
       "    <tr>\n",
       "      <th>890</th>\n",
       "      <td>0</td>\n",
       "      <td>0</td>\n",
       "      <td>0.252999</td>\n",
       "    </tr>\n",
       "    <tr>\n",
       "      <th>6903</th>\n",
       "      <td>1</td>\n",
       "      <td>1</td>\n",
       "      <td>0.942385</td>\n",
       "    </tr>\n",
       "    <tr>\n",
       "      <th>1709</th>\n",
       "      <td>1</td>\n",
       "      <td>1</td>\n",
       "      <td>0.873264</td>\n",
       "    </tr>\n",
       "    <tr>\n",
       "      <th>3019</th>\n",
       "      <td>1</td>\n",
       "      <td>1</td>\n",
       "      <td>0.969517</td>\n",
       "    </tr>\n",
       "    <tr>\n",
       "      <th>118</th>\n",
       "      <td>1</td>\n",
       "      <td>0</td>\n",
       "      <td>0.386839</td>\n",
       "    </tr>\n",
       "  </tbody>\n",
       "</table>\n",
       "<p>2831 rows × 3 columns</p>\n",
       "</div>"
      ],
      "text/plain": [
       "      Actual  Predicted  Probability\n",
       "1091       1          1     0.881463\n",
       "6229       1          0     0.385833\n",
       "4747       1          1     0.941782\n",
       "878        1          1     0.974808\n",
       "4389       1          1     0.983819\n",
       "...      ...        ...          ...\n",
       "890        0          0     0.252999\n",
       "6903       1          1     0.942385\n",
       "1709       1          1     0.873264\n",
       "3019       1          1     0.969517\n",
       "118        1          0     0.386839\n",
       "\n",
       "[2831 rows x 3 columns]"
      ]
     },
     "execution_count": 130,
     "metadata": {},
     "output_type": "execute_result"
    }
   ],
   "source": [
    "# Compare actual versus predicted values\n",
    "\n",
    "pred_prob = log_regression.predict_proba(x_test)[:,1]\n",
    "\n",
    "\n",
    "df_compare = pd.DataFrame({'Actual': y_test, 'Predicted': y_pred, 'Probability': pred_prob})\n",
    "df_compare\n"
   ]
  },
  {
   "cell_type": "code",
   "execution_count": 131,
   "id": "6a98e718-9c55-4f65-a58a-d825efa062e6",
   "metadata": {},
   "outputs": [
    {
     "name": "stdout",
     "output_type": "stream",
     "text": [
      "Actual       0     1\n",
      "Predicted           \n",
      "0          142    56\n",
      "1          138  2495\n"
     ]
    }
   ],
   "source": [
    "# Confussion Matrix - Original Model\n",
    "\n",
    "confusion_matrix = pd.crosstab(y_pred, y_test, rownames=['Predicted'], colnames=['Actual'])\n",
    "\n",
    "print (confusion_matrix)"
   ]
  },
  {
   "cell_type": "code",
   "execution_count": null,
   "id": "e5b6da51-ff29-44cd-9e83-9075a6396a30",
   "metadata": {},
   "outputs": [],
   "source": []
  }
 ],
 "metadata": {
  "kernelspec": {
   "display_name": "Python 3 (ipykernel)",
   "language": "python",
   "name": "python3"
  },
  "language_info": {
   "codemirror_mode": {
    "name": "ipython",
    "version": 3
   },
   "file_extension": ".py",
   "mimetype": "text/x-python",
   "name": "python",
   "nbconvert_exporter": "python",
   "pygments_lexer": "ipython3",
   "version": "3.9.12"
  }
 },
 "nbformat": 4,
 "nbformat_minor": 5
}
